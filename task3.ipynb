{
  "nbformat": 4,
  "nbformat_minor": 0,
  "metadata": {
    "colab": {
      "provenance": [],
      "authorship_tag": "ABX9TyOuXx4HiawUVLbH0BFDf5/2"
    },
    "kernelspec": {
      "name": "python3",
      "display_name": "Python 3"
    },
    "language_info": {
      "name": "python"
    }
  },
  "cells": [
    {
      "cell_type": "code",
      "execution_count": 104,
      "metadata": {
        "id": "wgJN48Pg-FOu"
      },
      "outputs": [],
      "source": [
        "import pandas as pd\n",
        "from numpy import array\n",
        "from sklearn.feature_extraction.text import TfidfVectorizer\n",
        "from sklearn.model_selection import train_test_split\n",
        "from tensorflow.keras.models import Sequential\n",
        "from tensorflow.keras.layers import Dense, Embedding\n",
        "import re\n"
      ]
    },
    {
      "cell_type": "code",
      "source": [
        "# Load datasets\n",
        "df1 = pd.read_csv('tmdb_5000_credits.csv')\n",
        "df2 = pd.read_csv('tmdb_5000_movies.csv')"
      ],
      "metadata": {
        "id": "kFg0Mc7XQMvy"
      },
      "execution_count": 105,
      "outputs": []
    },
    {
      "cell_type": "code",
      "source": [
        "# Merge datasets ('title' is the common identifier)\n",
        "merged_df = pd.merge(df1[['title', 'cast', 'crew']], df2[['title', 'genres', 'keywords', 'overview']], on='title', how='outer')"
      ],
      "metadata": {
        "id": "e7qkdgp9RAV9"
      },
      "execution_count": 106,
      "outputs": []
    },
    {
      "cell_type": "code",
      "source": [
        "# Preprocess data\n",
        "def preprocess_text(text):\n",
        "  text = text.lower()  # Lowercase\n",
        "  text = re.sub(r'[^\\w\\s]', '', text)  # Remove punctuation\n",
        "  text = ' '.join([word for word in text.split() if len(word) > 2])  # Remove short words\n",
        "  return text\n",
        "\n",
        "merged_df['overview'] = merged_df['overview'].astype(str)\n",
        "merged_df['overview'] = merged_df['overview'].apply(preprocess_text)\n",
        "merged_df['genres'] = merged_df['genres'].apply(eval)  # genres are stored as lists\n"
      ],
      "metadata": {
        "id": "Qs9Uc0EzRFEC"
      },
      "execution_count": 107,
      "outputs": []
    },
    {
      "cell_type": "code",
      "source": [
        "print(merged_df.columns)\n",
        "\n",
        "# Combine features\n",
        "features = ['overview'] + [' '.join(str(genre_list)) for genre_list in merged_df['genres']] + [' '.join(cast) for cast in merged_df['cast']] + [' '.join(crew) for crew in merged_df['crew']] + [' '.join(keywords) for keywords in merged_df['keywords']]\n",
        "merged_df['combined_features'] = features[:len(merged_df)]\n",
        "\n",
        "# Create TF-IDF vectorizer\n",
        "vectorizer = TfidfVectorizer(max_features=5000)\n",
        "features_matrix = vectorizer.fit_transform(merged_df['combined_features'])\n",
        "\n",
        "X_train, X_test, y_train, y_test = train_test_split(features_matrix, merged_df['title'], test_size=0.2, random_state=42)\n"
      ],
      "metadata": {
        "colab": {
          "base_uri": "https://localhost:8080/"
        },
        "id": "S_CCAnbxTteR",
        "outputId": "1f87da7c-2a64-46c7-cc1b-de5c08d89954"
      },
      "execution_count": 108,
      "outputs": [
        {
          "output_type": "stream",
          "name": "stdout",
          "text": [
            "Index(['title', 'cast', 'crew', 'genres', 'keywords', 'overview'], dtype='object')\n"
          ]
        }
      ]
    }
  ]
}